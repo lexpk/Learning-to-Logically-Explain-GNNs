{
 "cells": [
  {
   "cell_type": "code",
   "execution_count": 1,
   "metadata": {},
   "outputs": [],
   "source": [
    "from colorrefinement import *\n",
    "from c2 import *\n",
    "import json"
   ]
  },
  {
   "cell_type": "code",
   "execution_count": 2,
   "metadata": {},
   "outputs": [],
   "source": [
    "#with open('datasets/ppi/ppi-G.json') as f:\n",
    "#    data = json.load(f)\n",
    "\n",
    "#graph = nx.node_link_graph(data)"
   ]
  },
  {
   "cell_type": "code",
   "execution_count": 3,
   "metadata": {},
   "outputs": [],
   "source": [
    "graph = nx.gnp_random_graph(150, 0.05)"
   ]
  },
  {
   "cell_type": "code",
   "execution_count": 4,
   "metadata": {},
   "outputs": [
    {
     "name": "stdout",
     "output_type": "stream",
     "text": [
      "         23832 function calls (22750 primitive calls) in 0.011 seconds\n",
      "\n",
      "   Ordered by: cumulative time\n",
      "   List reduced from 54 to 40 due to restriction <40>\n",
      "\n",
      "   ncalls  tottime  percall  cumtime  percall filename:lineno(function)\n",
      "      600    0.001    0.000    0.007    0.000 colorrefinement.py:105(__init__)\n",
      "        1    0.000    0.000    0.007    0.007 colorrefinement.py:6(color_refinement)\n",
      "        1    0.000    0.000    0.007    0.007 colorrefinement.py:36(__init__)\n",
      "        1    0.001    0.001    0.007    0.007 colorrefinement.py:78(_refine)\n",
      "      600    0.002    0.000    0.005    0.000 {built-in method builtins.sorted}\n",
      "     6355    0.002    0.000    0.003    0.000 colorrefinement.py:153(__lt__)\n",
      "4880/3800    0.001    0.000    0.001    0.000 colorrefinement.py:125(__eq__)\n",
      "      600    0.001    0.000    0.001    0.000 {built-in method builtins.hash}\n",
      "     4140    0.001    0.000    0.001    0.000 colorrefinement.py:85(<genexpr>)\n",
      "        1    0.000    0.000    0.001    0.001 colorrefinement.py:66(_init_colors)\n",
      "     4605    0.001    0.000    0.001    0.000 colorrefinement.py:162(__hash__)\n",
      "      450    0.000    0.000    0.000    0.000 graph.py:1315(neighbors)\n",
      "      452    0.000    0.000    0.000    0.000 {built-in method builtins.max}\n",
      "      600    0.000    0.000    0.000    0.000 {method 'add' of 'set' objects}\n",
      "      459    0.000    0.000    0.000    0.000 {built-in method builtins.iter}\n",
      "        1    0.000    0.000    0.000    0.000 pstats.py:108(__init__)\n",
      "        1    0.000    0.000    0.000    0.000 pstats.py:118(init)\n",
      "        1    0.000    0.000    0.000    0.000 zmqstream.py:687(_rebuild_io_state)\n",
      "        1    0.000    0.000    0.000    0.000 pstats.py:137(load_stats)\n",
      "        1    0.000    0.000    0.000    0.000 cProfile.py:52(create_stats)\n",
      "        1    0.000    0.000    0.000    0.000 {method 'disable' of '_lsprof.Profiler' objects}\n",
      "        1    0.000    0.000    0.000    0.000 zmqstream.py:710(_update_handler)\n",
      "        1    0.000    0.000    0.000    0.000 attrsettr.py:42(__getattr__)\n",
      "        1    0.000    0.000    0.000    0.000 attrsettr.py:65(_get_attr_opt)\n",
      "     11/9    0.000    0.000    0.000    0.000 {built-in method builtins.isinstance}\n",
      "        1    0.000    0.000    0.000    0.000 typing.py:1168(__instancecheck__)\n",
      "        2    0.000    0.000    0.000    0.000 enum.py:1538(__and__)\n",
      "        1    0.000    0.000    0.000    0.000 typing.py:1439(__subclasscheck__)\n",
      "        1    0.000    0.000    0.000    0.000 functools.py:979(__get__)\n",
      "        1    0.000    0.000    0.000    0.000 zmqstream.py:566(sending)\n",
      "        4    0.000    0.000    0.000    0.000 enum.py:709(__call__)\n",
      "        1    0.000    0.000    0.000    0.000 queue.py:97(empty)\n",
      "        9    0.000    0.000    0.000    0.000 reportviews.py:185(__iter__)\n",
      "        1    0.000    0.000    0.000    0.000 {built-in method builtins.issubclass}\n",
      "        1    0.000    0.000    0.000    0.000 <frozen abc>:121(__subclasscheck__)\n",
      "        1    0.000    0.000    0.000    0.000 <frozen importlib._bootstrap>:1384(_handle_fromlist)\n",
      "        1    0.000    0.000    0.000    0.000 base_events.py:711(time)\n",
      "        1    0.000    0.000    0.000    0.000 enum.py:1528(__or__)\n",
      "        1    0.000    0.000    0.000    0.000 graph.py:732(nodes)\n",
      "        4    0.000    0.000    0.000    0.000 enum.py:1112(__new__)\n",
      "\n",
      "\n"
     ]
    }
   ],
   "source": [
    "\n",
    "from cProfile import Profile\n",
    "from pstats import SortKey, Stats\n",
    "with Profile() as prof:\n",
    "    cr = color_refinement(graph)\n",
    "    (\n",
    "        Stats(prof)\n",
    "        .strip_dirs()\n",
    "        .sort_stats(SortKey.CUMULATIVE)\n",
    "        .print_stats(40)\n",
    "    )"
   ]
  },
  {
   "cell_type": "code",
   "execution_count": 5,
   "metadata": {},
   "outputs": [
    {
     "data": {
      "text/plain": [
       "2"
      ]
     },
     "execution_count": 5,
     "metadata": {},
     "output_type": "execute_result"
    }
   ],
   "source": [
    "depth = graph.color_refinement.depth\n",
    "depth"
   ]
  },
  {
   "cell_type": "code",
   "execution_count": 6,
   "metadata": {},
   "outputs": [
    {
     "data": {
      "text/plain": [
       "{}"
      ]
     },
     "execution_count": 6,
     "metadata": {},
     "output_type": "execute_result"
    }
   ],
   "source": [
    "graph.nodes[3]"
   ]
  },
  {
   "cell_type": "code",
   "execution_count": 7,
   "metadata": {},
   "outputs": [
    {
     "data": {
      "text/plain": [
       "∃≥30x.∃≥10y.E(x, y)"
      ]
     },
     "execution_count": 7,
     "metadata": {},
     "output_type": "execute_result"
    }
   ],
   "source": [
    "phi = ExistsGeq(30, Var.x, ExistsGeq(10, Var.y, E(Var.x, Var.y)))\n",
    "phi"
   ]
  },
  {
   "cell_type": "code",
   "execution_count": 8,
   "metadata": {},
   "outputs": [
    {
     "data": {
      "text/plain": [
       "46"
      ]
     },
     "execution_count": 8,
     "metadata": {},
     "output_type": "execute_result"
    }
   ],
   "source": [
    "len([node for node in graph.nodes if graph.degree[node] >= 10])"
   ]
  },
  {
   "cell_type": "code",
   "execution_count": 9,
   "metadata": {},
   "outputs": [
    {
     "name": "stdout",
     "output_type": "stream",
     "text": [
      "         76032 function calls (75892 primitive calls) in 0.075 seconds\n",
      "\n",
      "   Ordered by: cumulative time\n",
      "   List reduced from 135 to 40 due to restriction <40>\n",
      "\n",
      "   ncalls  tottime  percall  cumtime  percall filename:lineno(function)\n",
      "        3    0.000    0.000    0.040    0.013 base_events.py:1874(_run_once)\n",
      "    15093    0.019    0.000    0.034    0.000 c2.py:705(_evaluate)\n",
      "    29374    0.010    0.000    0.010    0.000 reportviews.py:1267(__contains__)\n",
      "        2    0.000    0.000    0.006    0.003 {method 'run' of '_contextvars.Context' objects}\n",
      "      3/1    0.034    0.011    0.006    0.006 events.py:82(_run)\n",
      "        1    0.000    0.000    0.006    0.006 kernelbase.py:283(poll_control_queue)\n",
      "        1    0.000    0.000    0.006    0.006 _base.py:537(set_result)\n",
      "        1    0.000    0.000    0.006    0.006 _base.py:337(_invoke_callbacks)\n",
      "        1    0.000    0.000    0.006    0.006 futures.py:394(_call_set_state)\n",
      "    29374    0.004    0.000    0.004    0.000 reportviews.py:1088(__call__)\n",
      "        6    0.000    0.000    0.000    0.000 c2.py:155(__init__)\n",
      "    22/10    0.000    0.000    0.000    0.000 c2.py:379(__repr__)\n",
      "     10/8    0.000    0.000    0.000    0.000 c2.py:315(__repr__)\n",
      "      7/6    0.000    0.000    0.000    0.000 c2.py:657(__repr__)\n",
      "        1    0.000    0.000    0.000    0.000 base_events.py:815(call_soon_threadsafe)\n",
      "        4    0.000    0.000    0.000    0.000 c2.py:623(__repr__)\n",
      "        4    0.000    0.000    0.000    0.000 c2.py:259(__init__)\n",
      "        4    0.000    0.000    0.000    0.000 c2.py:63(__init__)\n",
      "      109    0.000    0.000    0.000    0.000 c2.py:175(_formula_free_variables)\n",
      "        2    0.000    0.000    0.000    0.000 c2.py:651(__init__)\n",
      "  116/112    0.000    0.000    0.000    0.000 {built-in method builtins.isinstance}\n",
      "       11    0.000    0.000    0.000    0.000 socket.py:621(send)\n",
      "        2    0.000    0.000    0.000    0.000 zmqstream.py:687(_rebuild_io_state)\n",
      "      123    0.000    0.000    0.000    0.000 enum.py:1251(__hash__)\n",
      "        2    0.000    0.000    0.000    0.000 c2.py:617(__init__)\n",
      "        1    0.000    0.000    0.000    0.000 iostream.py:276(<lambda>)\n",
      "        1    0.000    0.000    0.000    0.000 ioloop.py:730(_run_callback)\n",
      "        1    0.000    0.000    0.000    0.000 iostream.py:278(_really_send)\n",
      "        1    0.000    0.000    0.000    0.000 zmqstream.py:718(<lambda>)\n",
      "        1    0.000    0.000    0.000    0.000 zmqstream.py:607(_handle_events)\n",
      "        1    0.000    0.000    0.000    0.000 pstats.py:108(__init__)\n",
      "       33    0.000    0.000    0.000    0.000 c2.py:250(Top)\n",
      "        2    0.000    0.000    0.000    0.000 c2.py:344(__init__)\n",
      "      107    0.000    0.000    0.000    0.000 reportviews.py:185(__iter__)\n",
      "       33    0.000    0.000    0.000    0.000 c2.py:254(Bottom)\n",
      "       11    0.000    0.000    0.000    0.000 enum.py:1528(__or__)\n",
      "       66    0.000    0.000    0.000    0.000 c2.py:120(__init__)\n",
      "        1    0.000    0.000    0.000    0.000 pstats.py:118(init)\n",
      "        2    0.000    0.000    0.000    0.000 zmqstream.py:710(_update_handler)\n",
      "        1    0.000    0.000    0.000    0.000 socket.py:698(send_multipart)\n",
      "\n",
      "\n"
     ]
    }
   ],
   "source": [
    "from cProfile import Profile\n",
    "from pstats import SortKey, Stats\n",
    "with Profile() as prof:\n",
    "    phi.evaluate(graph)\n",
    "    (\n",
    "        Stats(prof)\n",
    "        .strip_dirs()\n",
    "        .sort_stats(SortKey.CUMULATIVE)\n",
    "        .print_stats(40)\n",
    "    )"
   ]
  },
  {
   "cell_type": "code",
   "execution_count": 10,
   "metadata": {},
   "outputs": [
    {
     "data": {
      "text/plain": [
       "(0, True)"
      ]
     },
     "execution_count": 10,
     "metadata": {},
     "output_type": "execute_result"
    }
   ],
   "source": [
    "v = next(v for v in graph.nodes if graph.degree[v] >= 10)\n",
    "v, GuardedExistsGeq(10, Var.y, E(Var.x, Var.y)).evaluate(graph, v)"
   ]
  },
  {
   "cell_type": "code",
   "execution_count": 11,
   "metadata": {},
   "outputs": [
    {
     "data": {
      "image/png": "[encoded data removed]",
      "text/plain": [
       "<Figure size 640x480 with 1 Axes>"
      ]
     },
     "metadata": {},
     "output_type": "display_data"
    }
   ],
   "source": [
    "nx.draw(cr.node_colors[1][v].to_networkx(), node_size=10)"
   ]
  },
  {
   "cell_type": "code",
   "execution_count": 12,
   "metadata": {},
   "outputs": [],
   "source": [
    "from GC2NodeClassifier import GC2NodeClassifier\n",
    "import numpy as np"
   ]
  },
  {
   "cell_type": "code",
   "execution_count": 13,
   "metadata": {},
   "outputs": [
    {
     "data": {
      "text/plain": [
       "2"
      ]
     },
     "execution_count": 13,
     "metadata": {},
     "output_type": "execute_result"
    }
   ],
   "source": [
    "graph.color_refinement.depth"
   ]
  },
  {
   "cell_type": "code",
   "execution_count": 14,
   "metadata": {},
   "outputs": [
    {
     "data": {
      "text/plain": [
       "(∃=12x.E(x, y))"
      ]
     },
     "execution_count": 14,
     "metadata": {},
     "output_type": "execute_result"
    }
   ],
   "source": [
    "len(graph.color_refinement.node_colors[1][v].chi(1).children)"
   ]
  },
  {
   "cell_type": "code",
   "execution_count": 15,
   "metadata": {},
   "outputs": [
    {
     "data": {
      "text/plain": [
       "(∀x.(E(x, y) → (∃=12y.E(x, y) ∨ ∃=10y.E(x, y) ∨ ∃=6y.E(x, y) ∨ ∃=8y.E(x, y) ∨ ∃=5y.E(x, y))) ∧ (∃=2x.(E(x, y) ∧ ∃=5y.E(x, y)) ∧ ∃=1x.(E(x, y) ∧ ∃=6y.E(x, y)) ∧ ∃=1x.(E(x, y) ∧ ∃=12y.E(x, y)) ∧ ∃=2x.(E(x, y) ∧ ∃=10y.E(x, y)) ∧ ∃=1x.(E(x, y) ∧ ∃=8y.E(x, y))))"
      ]
     },
     "execution_count": 15,
     "metadata": {},
     "output_type": "execute_result"
    }
   ],
   "source": [
    "cr = graph.color_refinement\n",
    "cr.node_colors[2][2].chi(2)"
   ]
  },
  {
   "cell_type": "code",
   "execution_count": 16,
   "metadata": {},
   "outputs": [
    {
     "data": {
      "text/plain": [
       "2"
      ]
     },
     "execution_count": 16,
     "metadata": {},
     "output_type": "execute_result"
    }
   ],
   "source": [
    "cr.depth"
   ]
  },
  {
   "cell_type": "code",
   "execution_count": 17,
   "metadata": {},
   "outputs": [
    {
     "ename": "TypeError",
     "evalue": "cannot convert dictionary update sequence element #0 to a sequence",
     "output_type": "error",
     "traceback": [
      "\u001b[1;31m---------------------------------------------------------------------------\u001b[0m",
      "\u001b[1;31mTypeError\u001b[0m                                 Traceback (most recent call last)",
      "Cell \u001b[1;32mIn[17], line 2\u001b[0m\n\u001b[0;32m      1\u001b[0m psi \u001b[38;5;241m=\u001b[39m GuardedExistsGeq(\u001b[38;5;241m10\u001b[39m, Var\u001b[38;5;241m.\u001b[39my, E(Var\u001b[38;5;241m.\u001b[39mx, Var\u001b[38;5;241m.\u001b[39my))\n\u001b[1;32m----> 2\u001b[0m clf \u001b[38;5;241m=\u001b[39m \u001b[43mGC2NodeClassifier\u001b[49m\u001b[43m(\u001b[49m\n\u001b[0;32m      3\u001b[0m \u001b[43m    \u001b[49m\u001b[43m[\u001b[49m\u001b[43mgraph\u001b[49m\u001b[43m \u001b[49m\u001b[38;5;28;43;01mfor\u001b[39;49;00m\u001b[43m \u001b[49m\u001b[43m_\u001b[49m\u001b[43m \u001b[49m\u001b[38;5;129;43;01min\u001b[39;49;00m\u001b[43m \u001b[49m\u001b[43mgraph\u001b[49m\u001b[38;5;241;43m.\u001b[39;49m\u001b[43mnodes\u001b[49m\u001b[43m]\u001b[49m\u001b[43m,\u001b[49m\n\u001b[0;32m      4\u001b[0m \u001b[43m    \u001b[49m\u001b[38;5;28;43mlist\u001b[39;49m\u001b[43m(\u001b[49m\u001b[43mgraph\u001b[49m\u001b[38;5;241;43m.\u001b[39;49m\u001b[43mnodes\u001b[49m\u001b[43m)\u001b[49m\u001b[43m,\u001b[49m\n\u001b[0;32m      5\u001b[0m \u001b[43m    \u001b[49m\u001b[43m[\u001b[49m\u001b[38;5;28;43;01mNone\u001b[39;49;00m\u001b[43m \u001b[49m\u001b[38;5;28;43;01mfor\u001b[39;49;00m\u001b[43m \u001b[49m\u001b[43m_\u001b[49m\u001b[43m \u001b[49m\u001b[38;5;129;43;01min\u001b[39;49;00m\u001b[43m \u001b[49m\u001b[43mgraph\u001b[49m\u001b[38;5;241;43m.\u001b[39;49m\u001b[43mnodes\u001b[49m\u001b[43m]\u001b[49m\u001b[43m,\u001b[49m\n\u001b[0;32m      6\u001b[0m \u001b[43m    \u001b[49m\u001b[43mlabels\u001b[49m\u001b[38;5;241;43m=\u001b[39;49m\u001b[43mnp\u001b[49m\u001b[38;5;241;43m.\u001b[39;49m\u001b[43marray\u001b[49m\u001b[43m(\u001b[49m\u001b[43m[\u001b[49m\u001b[43mpsi\u001b[49m\u001b[38;5;241;43m.\u001b[39;49m\u001b[43mevaluate\u001b[49m\u001b[43m(\u001b[49m\u001b[43mgraph\u001b[49m\u001b[43m,\u001b[49m\u001b[43m \u001b[49m\u001b[43mv\u001b[49m\u001b[43m)\u001b[49m\u001b[43m \u001b[49m\u001b[38;5;28;43;01mfor\u001b[39;49;00m\u001b[43m \u001b[49m\u001b[43mn\u001b[49m\u001b[43m \u001b[49m\u001b[38;5;129;43;01min\u001b[39;49;00m\u001b[43m \u001b[49m\u001b[43mgraph\u001b[49m\u001b[38;5;241;43m.\u001b[39;49m\u001b[43mnodes\u001b[49m\u001b[43m]\u001b[49m\u001b[43m)\u001b[49m\n\u001b[0;32m      7\u001b[0m \u001b[43m)\u001b[49m\n",
      "File \u001b[1;32me:\\Alex\\Google Drive\\PhD\\Machine Learning Algorithms and Applications\\Learning to Logically Explain GNNs\\GC2NodeClassifier.py:30\u001b[0m, in \u001b[0;36mGC2NodeClassifier.__init__\u001b[1;34m(self, graphs, vertices, vertex_labels, labels, max_depth)\u001b[0m\n\u001b[0;32m     28\u001b[0m \u001b[38;5;28mself\u001b[39m\u001b[38;5;241m.\u001b[39mmax_depth \u001b[38;5;241m=\u001b[39m max_depth\n\u001b[0;32m     29\u001b[0m \u001b[38;5;28mself\u001b[39m\u001b[38;5;241m.\u001b[39mcolor_refinement \u001b[38;5;241m=\u001b[39m []\n\u001b[1;32m---> 30\u001b[0m \u001b[38;5;28;43mself\u001b[39;49m\u001b[38;5;241;43m.\u001b[39;49m\u001b[43m_init_gc2_node_classifier\u001b[49m\u001b[43m(\u001b[49m\u001b[43m)\u001b[49m\n",
      "File \u001b[1;32me:\\Alex\\Google Drive\\PhD\\Machine Learning Algorithms and Applications\\Learning to Logically Explain GNNs\\GC2NodeClassifier.py:44\u001b[0m, in \u001b[0;36mGC2NodeClassifier._init_gc2_node_classifier\u001b[1;34m(self)\u001b[0m\n\u001b[0;32m     36\u001b[0m \u001b[38;5;28;01mfor\u001b[39;00m graph, vertex, vertex_labels \u001b[38;5;129;01min\u001b[39;00m \u001b[38;5;28mzip\u001b[39m(\n\u001b[0;32m     37\u001b[0m     \u001b[38;5;28mself\u001b[39m\u001b[38;5;241m.\u001b[39mgraphs,\n\u001b[0;32m     38\u001b[0m     \u001b[38;5;28mself\u001b[39m\u001b[38;5;241m.\u001b[39mvertices,\n\u001b[0;32m     39\u001b[0m     \u001b[38;5;28mself\u001b[39m\u001b[38;5;241m.\u001b[39mvertex_labels\n\u001b[0;32m     40\u001b[0m ):\n\u001b[0;32m     41\u001b[0m     cr \u001b[38;5;241m=\u001b[39m color_refinement(\n\u001b[0;32m     42\u001b[0m         graph, vertex_labels, \u001b[38;5;28mself\u001b[39m\u001b[38;5;241m.\u001b[39mmax_depth\n\u001b[0;32m     43\u001b[0m     )\n\u001b[1;32m---> 44\u001b[0m     \u001b[38;5;28;43mself\u001b[39;49m\u001b[38;5;241;43m.\u001b[39;49m\u001b[43mformulas\u001b[49m\u001b[43m \u001b[49m\u001b[38;5;241;43m|\u001b[39;49m\u001b[38;5;241;43m=\u001b[39;49m\u001b[43m \u001b[49m\u001b[43mcr\u001b[49m\u001b[38;5;241;43m.\u001b[39;49m\u001b[43mnode_colors\u001b[49m\u001b[43m[\u001b[49m\u001b[43mcr\u001b[49m\u001b[38;5;241;43m.\u001b[39;49m\u001b[43mdepth\u001b[49m\u001b[43m]\u001b[49m\u001b[43m[\u001b[49m\u001b[43mvertex\u001b[49m\u001b[43m]\u001b[49m\u001b[43m \u001b[49m\u001b[43m\\\u001b[49m\n\u001b[0;32m     45\u001b[0m \u001b[43m        \u001b[49m\u001b[38;5;241;43m.\u001b[39;49m\u001b[43mchi\u001b[49m\u001b[43m(\u001b[49m\u001b[43mcr\u001b[49m\u001b[38;5;241;43m.\u001b[39;49m\u001b[43mdepth\u001b[49m\u001b[43m)\u001b[49m\u001b[38;5;241;43m.\u001b[39;49m\u001b[43msubformulas\u001b[49m\u001b[43m(\u001b[49m\u001b[43m)\u001b[49m\n",
      "\u001b[1;31mTypeError\u001b[0m: cannot convert dictionary update sequence element #0 to a sequence"
     ]
    }
   ],
   "source": [
    "psi = GuardedExistsGeq(10, Var.y, E(Var.x, Var.y))\n",
    "clf = GC2NodeClassifier(\n",
    "    [graph for _ in graph.nodes],\n",
    "    list(graph.nodes),\n",
    "    [None for _ in graph.nodes],\n",
    "    labels=np.array([psi.evaluate(graph, v) for n in graph.nodes])\n",
    ")"
   ]
  }
 ],
 "metadata": {
  "kernelspec": {
   "display_name": "wlclf",
   "language": "python",
   "name": "python3"
  },
  "language_info": {
   "codemirror_mode": {
    "name": "ipython",
    "version": 3
   },
   "file_extension": ".py",
   "mimetype": "text/x-python",
   "name": "python",
   "nbconvert_exporter": "python",
   "pygments_lexer": "ipython3",
   "version": "3.12.0"
  }
 },
 "nbformat": 4,
 "nbformat_minor": 2
}
