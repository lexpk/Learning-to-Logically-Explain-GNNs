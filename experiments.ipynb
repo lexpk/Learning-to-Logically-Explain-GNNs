{
 "cells": [
  {
   "cell_type": "code",
   "execution_count": 1,
   "metadata": {},
   "outputs": [],
   "source": [
    "from gc2reductor import *\n",
    "from c2 import *\n",
    "import numpy as np"
   ]
  },
  {
   "cell_type": "code",
   "execution_count": 2,
   "metadata": {},
   "outputs": [],
   "source": [
    "from colorrefinement import *\n",
    "import json, csv\n",
    "import networkx as nx\n",
    "import numpy as np\n",
    "from GC2NodeClassifier import GC2NodeClassifier"
   ]
  },
  {
   "cell_type": "code",
   "execution_count": 3,
   "metadata": {},
   "outputs": [],
   "source": [
    "with open('datasets/citeseer-doc-classification/citeseer.content') as f:\n",
    "    reader = csv.reader(f, delimiter='\\t')\n",
    "    content = list(reader)\n",
    "\n",
    "with open('datasets/citeseer-doc-classification/citeseer.cites') as f:\n",
    "    reader = csv.reader(f, delimiter='\\t')\n",
    "    edges = list(reader)"
   ]
  },
  {
   "cell_type": "code",
   "execution_count": 5,
   "metadata": {},
   "outputs": [
    {
     "data": {
      "text/plain": [
       "array(['AI', 'Agents', 'DB', 'HCI', 'IR', 'ML'], dtype='<U6')"
      ]
     },
     "execution_count": 5,
     "metadata": {},
     "output_type": "execute_result"
    }
   ],
   "source": [
    "node_ids = {row[0]: i for i, row in enumerate(content)}\n",
    "X = np.array([\n",
    "    row[1:-1] for row in content    \n",
    "], dtype=float)\n",
    "y = np.array([\n",
    "    row[-1] for row in content\n",
    "])\n",
    "\n",
    "adj = np.zeros((len(node_ids), len(node_ids)))\n",
    "for edge in edges:\n",
    "    if edge[0] in node_ids and edge[1] in node_ids:\n",
    "        adj[node_ids[edge[0]], node_ids[edge[1]]] = 1\n",
    "        adj[node_ids[edge[1]], node_ids[edge[0]]] = 1\n",
    "np.unique(y)"
   ]
  },
  {
   "cell_type": "code",
   "execution_count": 6,
   "metadata": {},
   "outputs": [
    {
     "name": "stdout",
     "output_type": "stream",
     "text": [
      "         3591250 function calls (3199284 primitive calls) in 4.527 seconds\n",
      "\n",
      "   Ordered by: cumulative time\n",
      "   List reduced from 350 to 40 due to restriction <40>\n",
      "\n",
      "   ncalls  tottime  percall  cumtime  percall filename:lineno(function)\n",
      "        2    0.000    0.000    3.332    1.666 base_events.py:1874(_run_once)\n",
      "        2    0.000    0.000    3.332    1.666 selectors.py:319(select)\n",
      "        2    0.017    0.008    3.332    1.666 selectors.py:313(_select)\n",
      "        1    0.000    0.000    3.315    3.315 gc2explainer.py:23(explain)\n",
      "       13    0.004    0.000    2.586    0.199 gc2combinator.py:12(combine)\n",
      "        2    0.000    0.000    2.358    1.179 gc2explainer.py:128(reduce)\n",
      "     10/2    0.004    0.000    2.358    1.179 gc2explainer.py:131(_reduce)\n",
      "     1269    0.007    0.000    2.318    0.002 helper.py:99(boolean_combinations)\n",
      "     2512    0.005    0.000    2.190    0.001 helper.py:108(negate)\n",
      "11760/2512    0.064    0.000    2.059    0.001 c2.py:323(simplify)\n",
      "3072/1440    0.014    0.000    1.628    0.001 c2.py:227(simplify)\n",
      "13704/2152    0.098    0.000    1.459    0.001 c2.py:267(simplify)\n",
      "18277/2197    0.042    0.000    1.430    0.001 {built-in method builtins.sorted}\n",
      "41112/6456    0.144    0.000    1.297    0.000 c2.py:268(<genexpr>)\n",
      "       22    0.504    0.023    1.274    0.058 helper.py:58(unique)\n",
      "233498/92868    0.324    0.000    0.988    0.000 c2.py:275(__repr__)\n",
      "4552/2120    0.034    0.000    0.835    0.000 c2.py:293(simplify)\n",
      "     9841    0.726    0.000    0.726    0.000 {method 'tostring' of 'numpy.ndarray' objects}\n",
      "23170/17261    0.097    0.000    0.713    0.000 c2.py:605(__repr__)\n",
      "13656/6360    0.009    0.000    0.706    0.000 c2.py:294(<genexpr>)\n",
      "169581/152557    0.167    0.000    0.706    0.000 c2.py:144(__init__)\n",
      "        2    0.000    0.000    0.568    0.284 gc2explainer.py:70(expand)\n",
      "     10/2    0.003    0.000    0.568    0.284 gc2explainer.py:73(_expand)\n",
      "117440/85738    0.099    0.000    0.553    0.000 c2.py:301(__repr__)\n",
      "89479/83799    0.077    0.000    0.524    0.000 c2.py:261(__init__)\n",
      "8536/7457    0.038    0.000    0.494    0.000 c2.py:578(__repr__)\n",
      "        9    0.000    0.000    0.346    0.038 gc2selector.py:12(select)\n",
      "        9    0.014    0.002    0.346    0.038 gc2selector.py:26(index)\n",
      "80102/77270    0.070    0.000    0.334    0.000 c2.py:283(__init__)\n",
      "     7880    0.157    0.000    0.331    0.000 helper.py:37(loss)\n",
      "   251874    0.158    0.000    0.311    0.000 c2.py:853(__repr__)\n",
      "     4616    0.008    0.000    0.289    0.000 c2.py:189(__init__)\n",
      "75452/61268    0.060    0.000    0.285    0.000 c2.py:373(__repr__)\n",
      "   275275    0.122    0.000    0.270    0.000 {built-in method builtins.isinstance}\n",
      "       24    0.224    0.009    0.224    0.009 {method 'dot' of 'numpy.ndarray' objects}\n",
      "    73683    0.054    0.000    0.218    0.000 c2.py:308(Top)\n",
      "    73682    0.054    0.000    0.217    0.000 c2.py:312(Bottom)\n",
      "   132276    0.073    0.000    0.196    0.000 c2.py:148(__eq__)\n",
      "    11624    0.014    0.000    0.184    0.000 c2.py:317(__init__)\n",
      "   283580    0.128    0.000    0.174    0.000 enum.py:197(__get__)\n",
      "\n",
      "\n"
     ]
    }
   ],
   "source": [
    "from gc2explainer import GC2Explainer\n",
    "from gc2combinator import DecisionTreeCombinator\n",
    "explainer = GC2Explainer(combinator=DecisionTreeCombinator(combination_size=2, depth=3),  regularization=lambda x, y: x + 0.001*np.log(y))\n",
    "from cProfile import Profile\n",
    "from pstats import SortKey, Stats\n",
    "with Profile() as prof:\n",
    "    explainer.explain(adj, X, y == 'DB', depth=2)\n",
    "    (\n",
    "        Stats(prof)\n",
    "        .strip_dirs()\n",
    "        .sort_stats(SortKey.CUMULATIVE)\n",
    "        .print_stats(40)\n",
    "    )"
   ]
  },
  {
   "cell_type": "code",
   "execution_count": 8,
   "metadata": {},
   "outputs": [
    {
     "data": {
      "text/plain": [
       "0.21165458937198067"
      ]
     },
     "execution_count": 8,
     "metadata": {},
     "output_type": "execute_result"
    }
   ],
   "source": [
    "(y == 'DB').mean()"
   ]
  },
  {
   "cell_type": "code",
   "execution_count": 7,
   "metadata": {},
   "outputs": [
    {
     "data": {
      "text/plain": [
       "0.8605072463768116"
      ]
     },
     "execution_count": 7,
     "metadata": {},
     "output_type": "execute_result"
    }
   ],
   "source": [
    "explainer.accuracy()"
   ]
  },
  {
   "cell_type": "code",
   "execution_count": 9,
   "metadata": {},
   "outputs": [
    {
     "data": {
      "text/plain": [
       "(∃≥1y.E(x, y) ∧ (∃≤0y.(E(x, y) ∧ ((((¬x1868(x) ∧ x2641(x)) ∧ (x729(x) ∧ x731(x))) ∧ (∃≤0y.(E(x, y) ∧ ((x729(x) ∧ x731(x)) ∧ (x2641(x) ∧ x731(x)))) ∧ (¬x1868(x) ∧ x2641(x)))) ∧ (((¬x1868(x) ∧ x2641(x)) ∧ (x729(x) ∧ x731(x))) ∧ (∃≤0y.(E(x, y) ∧ ((x729(x) ∧ x731(x)) ∧ (x2641(x) ∧ x731(x)))) ∧ (¬x1868(x) ∧ x2641(x)))))) ∧ (∃≥1y.E(x, y) ∧ ((x729(x) ∧ x731(x)) ∧ (x2641(x) ∧ x731(x)))) ∨ (x1868(x) ∨ ¬x2641(x))))) ∨ ∃≤1y.(E(x, y) ∧ (∃≤0y.(E(x, y) ∧ ((((¬x1868(x) ∧ x2641(x)) ∧ (x729(x) ∧ x731(x))) ∧ (∃≤0y.(E(x, y) ∧ ((x729(x) ∧ x731(x)) ∧ (x2641(x) ∧ x731(x)))) ∧ (¬x1868(x) ∧ x2641(x)))) ∧ (((¬x1868(x) ∧ x2641(x)) ∧ (x729(x) ∧ x731(x))) ∧ (∃≤0y.(E(x, y) ∧ ((x729(x) ∧ x731(x)) ∧ (x2641(x) ∧ x731(x)))) ∧ (¬x1868(x) ∧ x2641(x)))))) ∧ ∃≥1y.E(x, y) ∧ (((∃≤0y.(E(x, y) ∧ ((x729(x) ∧ x731(x)) ∧ (x2641(x) ∧ x731(x)))) ∨ (¬x1868(x) ∨ x731(x))) ∧ (∃≤0y.(E(x, y) ∧ ((x729(x) ∧ x731(x)) ∧ (x2641(x) ∧ x731(x)))) ∨ (¬x1868(x) ∧ x2641(x)))) ∧ (((¬x1868(x) ∧ x2641(x)) ∧ (x729(x) ∧ x731(x))) ∨ (∃≤0y.(E(x, y) ∧ ((x729(x) ∧ x731(x)) ∧ (x2641(x) ∧ x731(x)))) ∨ (¬x1868(x) ∨ x731(x)))))))))"
      ]
     },
     "execution_count": 9,
     "metadata": {},
     "output_type": "execute_result"
    }
   ],
   "source": [
    "explainer.explanation()"
   ]
  },
  {
   "cell_type": "code",
   "execution_count": 9,
   "metadata": {},
   "outputs": [],
   "source": [
    "#GuardedExistsEq(10, Var.y, E(Var.x, Var.y))\n",
    "#GuardedExistsGeq(4, Var.y, Or(GuardedExistsLeq(7, Var.x, E(Var.x, Var.y)), GuardedExistsGeq(13, Var.x, E(Var.x, Var.y))))\n",
    "#GuardedExistsGeq(9, Var.y, GuardedExistsLeq(13, Var.x, GuardedExistsGeq(7, Var.y, E(Var.x, Var.y))))"
   ]
  },
  {
   "cell_type": "code",
   "execution_count": 10,
   "metadata": {},
   "outputs": [
    {
     "data": {
      "text/plain": [
       "0.5986"
      ]
     },
     "execution_count": 10,
     "metadata": {},
     "output_type": "execute_result"
    }
   ],
   "source": [
    "formula = GuardedExistsGeq(4, Var.y, Or(GuardedExistsLeq(7, Var.x, E(Var.x, Var.y)), GuardedExistsGeq(13, Var.x, E(Var.x, Var.y))))\n",
    "graph = nx.fast_gnp_random_graph(10000, 0.001)\n",
    "y = np.array([formula.evaluate(graph, i) for i in range(graph.number_of_nodes())])\n",
    "y.mean()"
   ]
  },
  {
   "cell_type": "code",
   "execution_count": 11,
   "metadata": {},
   "outputs": [
    {
     "data": {
      "text/plain": [
       "' n = 0\\nfor i in range(graph.number_of_nodes()):\\n    graph.nodes[i][\"red\"] = np.random.randint(0, 2)\\n    graph.nodes[i][\"blue\"] = np.random.randint(0, 2)\\nfor i in range(n):\\n    for j in range(graph.number_of_nodes()):\\n        graph.nodes[j][f\"P{i}\"] = np.random.randint(0, 2)\\nfor i in range(graph.number_of_nodes()):\\n    graph.nodes[i][\"red_xor_blue\"] = graph.nodes[i][\"red\"] ^ graph.nodes[i][\"blue\"] '"
      ]
     },
     "execution_count": 11,
     "metadata": {},
     "output_type": "execute_result"
    }
   ],
   "source": [
    "\"\"\" n = 0\n",
    "for i in range(graph.number_of_nodes()):\n",
    "    graph.nodes[i][\"red\"] = np.random.randint(0, 2)\n",
    "    graph.nodes[i][\"blue\"] = np.random.randint(0, 2)\n",
    "for i in range(n):\n",
    "    for j in range(graph.number_of_nodes()):\n",
    "        graph.nodes[j][f\"P{i}\"] = np.random.randint(0, 2)\n",
    "for i in range(graph.number_of_nodes()):\n",
    "    graph.nodes[i][\"red_xor_blue\"] = graph.nodes[i][\"red\"] ^ graph.nodes[i][\"blue\"] \"\"\""
   ]
  },
  {
   "cell_type": "code",
   "execution_count": 12,
   "metadata": {},
   "outputs": [
    {
     "data": {
      "text/plain": [
       "' print(f\"{\"red_xor_blue\"}:\")\\nprint(f\"{len([node for node in graph.nodes if graph.nodes[node][\"red_xor_blue\"]])/graph.number_of_nodes()}\") '"
      ]
     },
     "execution_count": 12,
     "metadata": {},
     "output_type": "execute_result"
    }
   ],
   "source": [
    "\"\"\" print(f\"{\"red_xor_blue\"}:\")\n",
    "print(f\"{len([node for node in graph.nodes if graph.nodes[node][\"red_xor_blue\"]])/graph.number_of_nodes()}\") \"\"\""
   ]
  },
  {
   "cell_type": "code",
   "execution_count": 13,
   "metadata": {},
   "outputs": [],
   "source": [
    "from gc2explainer import GC2Explainer\n",
    "explainer = GC2Explainer(regularization=lambda x, y: x + 0.0001 * np.log2(y))"
   ]
  },
  {
   "cell_type": "code",
   "execution_count": 14,
   "metadata": {},
   "outputs": [
    {
     "ename": "ValueError",
     "evalue": "The truth value of an array with more than one element is ambiguous. Use a.any() or a.all().",
     "output_type": "error",
     "traceback": [
      "\u001b[1;31m---------------------------------------------------------------------------\u001b[0m",
      "\u001b[1;31mValueError\u001b[0m                                Traceback (most recent call last)",
      "Cell \u001b[1;32mIn[14], line 4\u001b[0m\n\u001b[0;32m      2\u001b[0m \u001b[38;5;28;01mfrom\u001b[39;00m \u001b[38;5;21;01mpstats\u001b[39;00m \u001b[38;5;28;01mimport\u001b[39;00m SortKey, Stats\n\u001b[0;32m      3\u001b[0m \u001b[38;5;28;01mwith\u001b[39;00m Profile() \u001b[38;5;28;01mas\u001b[39;00m prof:\n\u001b[1;32m----> 4\u001b[0m     \u001b[43mexplainer\u001b[49m\u001b[38;5;241;43m.\u001b[39;49m\u001b[43mexplain\u001b[49m\u001b[43m(\u001b[49m\u001b[43mnx\u001b[49m\u001b[38;5;241;43m.\u001b[39;49m\u001b[43madjacency_matrix\u001b[49m\u001b[43m(\u001b[49m\u001b[43mgraph\u001b[49m\u001b[43m)\u001b[49m\u001b[43m,\u001b[49m\u001b[43m \u001b[49m\u001b[43mnp\u001b[49m\u001b[38;5;241;43m.\u001b[39;49m\u001b[43mzeros\u001b[49m\u001b[43m(\u001b[49m\u001b[43m(\u001b[49m\u001b[43mgraph\u001b[49m\u001b[38;5;241;43m.\u001b[39;49m\u001b[43mnumber_of_nodes\u001b[49m\u001b[43m(\u001b[49m\u001b[43m)\u001b[49m\u001b[43m,\u001b[49m\u001b[43m \u001b[49m\u001b[38;5;241;43m0\u001b[39;49m\u001b[43m)\u001b[49m\u001b[43m)\u001b[49m\u001b[43m,\u001b[49m\u001b[43m \u001b[49m\u001b[43my\u001b[49m\u001b[43m,\u001b[49m\u001b[43m \u001b[49m\u001b[43mdepth\u001b[49m\u001b[38;5;241;43m=\u001b[39;49m\u001b[38;5;241;43m3\u001b[39;49m\u001b[43m)\u001b[49m\n\u001b[0;32m      5\u001b[0m     (\n\u001b[0;32m      6\u001b[0m         Stats(prof)\n\u001b[0;32m      7\u001b[0m         \u001b[38;5;241m.\u001b[39mstrip_dirs()\n\u001b[0;32m      8\u001b[0m         \u001b[38;5;241m.\u001b[39msort_stats(SortKey\u001b[38;5;241m.\u001b[39mCUMULATIVE)\n\u001b[0;32m      9\u001b[0m         \u001b[38;5;241m.\u001b[39mprint_stats(\u001b[38;5;241m40\u001b[39m)\n\u001b[0;32m     10\u001b[0m     )\n",
      "File \u001b[1;32me:\\Alex\\Google Drive\\PhD\\Machine Learning Algorithms and Applications\\Learning to Logically Explain GNNs\\gc2explainer.py:67\u001b[0m, in \u001b[0;36mGC2Explainer.explain\u001b[1;34m(self, adj, X, y, feature_names, depth)\u001b[0m\n\u001b[0;32m     65\u001b[0m \u001b[38;5;28;01mfor\u001b[39;00m i \u001b[38;5;129;01min\u001b[39;00m \u001b[38;5;28mrange\u001b[39m(\u001b[38;5;241m1\u001b[39m, depth\u001b[38;5;241m+\u001b[39m\u001b[38;5;241m1\u001b[39m):\n\u001b[0;32m     66\u001b[0m     \u001b[38;5;28mself\u001b[39m\u001b[38;5;241m.\u001b[39mexpand(i)\n\u001b[1;32m---> 67\u001b[0m     \u001b[38;5;28;43mself\u001b[39;49m\u001b[38;5;241;43m.\u001b[39;49m\u001b[43mreduce\u001b[49m\u001b[43m(\u001b[49m\u001b[43mi\u001b[49m\u001b[43m)\u001b[49m\n\u001b[0;32m     68\u001b[0m \u001b[38;5;28;01mreturn\u001b[39;00m \u001b[38;5;28mself\u001b[39m\u001b[38;5;241m.\u001b[39mexplanation()\n",
      "File \u001b[1;32me:\\Alex\\Google Drive\\PhD\\Machine Learning Algorithms and Applications\\Learning to Logically Explain GNNs\\gc2explainer.py:129\u001b[0m, in \u001b[0;36mGC2Explainer.reduce\u001b[1;34m(self, depth)\u001b[0m\n\u001b[0;32m    128\u001b[0m \u001b[38;5;28;01mdef\u001b[39;00m \u001b[38;5;21mreduce\u001b[39m(\u001b[38;5;28mself\u001b[39m, depth):\n\u001b[1;32m--> 129\u001b[0m     \u001b[38;5;28;43mself\u001b[39;49m\u001b[38;5;241;43m.\u001b[39;49m\u001b[43m_reduce\u001b[49m\u001b[43m(\u001b[49m\u001b[38;5;241;43m0\u001b[39;49m\u001b[43m,\u001b[49m\u001b[43m \u001b[49m\u001b[38;5;241;43m1\u001b[39;49m\u001b[43m,\u001b[49m\u001b[43m \u001b[49m\u001b[43mdepth\u001b[49m\u001b[43m)\u001b[49m\n",
      "File \u001b[1;32me:\\Alex\\Google Drive\\PhD\\Machine Learning Algorithms and Applications\\Learning to Logically Explain GNNs\\gc2explainer.py:157\u001b[0m, in \u001b[0;36mGC2Explainer._reduce\u001b[1;34m(self, depth, s, max_depth)\u001b[0m\n\u001b[0;32m    149\u001b[0m mask \u001b[38;5;241m=\u001b[39m np\u001b[38;5;241m.\u001b[39mabs(\u001b[38;5;28mself\u001b[39m\u001b[38;5;241m.\u001b[39m_X[depth, s][:, index] \u001b[38;5;241m-\u001b[39m bit)\n\u001b[0;32m    150\u001b[0m new_formulas[bit], new_X[bit] \u001b[38;5;241m=\u001b[39m \u001b[38;5;28mself\u001b[39m\u001b[38;5;241m.\u001b[39mreductor\u001b[38;5;241m.\u001b[39mreduce(\n\u001b[0;32m    151\u001b[0m     \u001b[38;5;28mself\u001b[39m\u001b[38;5;241m.\u001b[39m_formulas[depth\u001b[38;5;241m+\u001b[39m\u001b[38;5;241m1\u001b[39m, \u001b[38;5;241m2\u001b[39m\u001b[38;5;241m*\u001b[39ms\u001b[38;5;241m+\u001b[39mbit],\n\u001b[0;32m    152\u001b[0m     \u001b[38;5;28mself\u001b[39m\u001b[38;5;241m.\u001b[39madj\u001b[38;5;241m.\u001b[39mdot(\u001b[38;5;28mself\u001b[39m\u001b[38;5;241m.\u001b[39m_X[depth\u001b[38;5;241m+\u001b[39m\u001b[38;5;241m1\u001b[39m, \u001b[38;5;241m2\u001b[39m\u001b[38;5;241m*\u001b[39ms\u001b[38;5;241m+\u001b[39mbit]),\n\u001b[1;32m   (...)\u001b[0m\n\u001b[0;32m    155\u001b[0m     outgoing\u001b[38;5;241m=\u001b[39m\u001b[38;5;28;01mTrue\u001b[39;00m\n\u001b[0;32m    156\u001b[0m )\n\u001b[1;32m--> 157\u001b[0m \u001b[38;5;28;01mif\u001b[39;00m \u001b[38;5;28mself\u001b[39m\u001b[38;5;241m.\u001b[39mdirected:\n\u001b[0;32m    158\u001b[0m     reverse \u001b[38;5;241m=\u001b[39m \u001b[38;5;28mself\u001b[39m\u001b[38;5;241m.\u001b[39mreductor\u001b[38;5;241m.\u001b[39mreduce(\n\u001b[0;32m    159\u001b[0m         \u001b[38;5;28mself\u001b[39m\u001b[38;5;241m.\u001b[39m_formulas[depth\u001b[38;5;241m+\u001b[39m\u001b[38;5;241m1\u001b[39m, \u001b[38;5;241m2\u001b[39m\u001b[38;5;241m*\u001b[39ms\u001b[38;5;241m+\u001b[39mbit],\n\u001b[0;32m    160\u001b[0m         \u001b[38;5;28mself\u001b[39m\u001b[38;5;241m.\u001b[39madj\u001b[38;5;241m.\u001b[39mT\u001b[38;5;241m.\u001b[39mdot(\u001b[38;5;28mself\u001b[39m\u001b[38;5;241m.\u001b[39m_X[depth\u001b[38;5;241m+\u001b[39m\u001b[38;5;241m1\u001b[39m, \u001b[38;5;241m2\u001b[39m\u001b[38;5;241m*\u001b[39ms\u001b[38;5;241m+\u001b[39mbit]),\n\u001b[1;32m   (...)\u001b[0m\n\u001b[0;32m    163\u001b[0m         outgoing\u001b[38;5;241m=\u001b[39m\u001b[38;5;28;01mFalse\u001b[39;00m\n\u001b[0;32m    164\u001b[0m     )\n\u001b[0;32m    165\u001b[0m     new_formulas[bit] \u001b[38;5;241m+\u001b[39m\u001b[38;5;241m=\u001b[39m reverse[\u001b[38;5;241m0\u001b[39m]\n",
      "File \u001b[1;32mc:\\Users\\Alex\\miniconda3\\envs\\wlclf\\Lib\\site-packages\\scipy\\sparse\\_base.py:332\u001b[0m, in \u001b[0;36m_spbase.__bool__\u001b[1;34m(self)\u001b[0m\n\u001b[0;32m    330\u001b[0m     \u001b[38;5;28;01mreturn\u001b[39;00m \u001b[38;5;28mself\u001b[39m\u001b[38;5;241m.\u001b[39mnnz \u001b[38;5;241m!=\u001b[39m \u001b[38;5;241m0\u001b[39m\n\u001b[0;32m    331\u001b[0m \u001b[38;5;28;01melse\u001b[39;00m:\n\u001b[1;32m--> 332\u001b[0m     \u001b[38;5;28;01mraise\u001b[39;00m \u001b[38;5;167;01mValueError\u001b[39;00m(\u001b[38;5;124m\"\u001b[39m\u001b[38;5;124mThe truth value of an array with more than one \u001b[39m\u001b[38;5;124m\"\u001b[39m\n\u001b[0;32m    333\u001b[0m                      \u001b[38;5;124m\"\u001b[39m\u001b[38;5;124melement is ambiguous. Use a.any() or a.all().\u001b[39m\u001b[38;5;124m\"\u001b[39m)\n",
      "\u001b[1;31mValueError\u001b[0m: The truth value of an array with more than one element is ambiguous. Use a.any() or a.all()."
     ]
    }
   ],
   "source": [
    "from cProfile import Profile\n",
    "from pstats import SortKey, Stats\n",
    "with Profile() as prof:\n",
    "    explainer.explain(nx.adjacency_matrix(graph), np.zeros((graph.number_of_nodes(), 0)), y, depth=3)\n",
    "    (\n",
    "        Stats(prof)\n",
    "        .strip_dirs()\n",
    "        .sort_stats(SortKey.CUMULATIVE)\n",
    "        .print_stats(40)\n",
    "    )"
   ]
  },
  {
   "cell_type": "code",
   "execution_count": null,
   "metadata": {},
   "outputs": [
    {
     "data": {
      "text/plain": [
       "∃≥4x.E(y, x) ∧ (∃≥13x.E(y, x) ∨ ∃≤7x.E(y, x)))"
      ]
     },
     "execution_count": 7,
     "metadata": {},
     "output_type": "execute_result"
    }
   ],
   "source": [
    "explainer.explanation()"
   ]
  },
  {
   "cell_type": "code",
   "execution_count": null,
   "metadata": {},
   "outputs": [
    {
     "data": {
      "text/plain": [
       "[⊤,\n",
       " ¬⊤,\n",
       " ∃≥10x.E(y, x),\n",
       " ∃≥8x.E(y, x),\n",
       " ∃≥7x.E(y, x),\n",
       " ∃≥9x.E(y, x),\n",
       " ∃≥13x.E(y, x),\n",
       " ∃≥11x.E(y, x),\n",
       " ∃≥14x.E(y, x),\n",
       " ∃≤9x.E(y, x),\n",
       " ∃≤7x.E(y, x),\n",
       " ∃≤6x.E(y, x),\n",
       " ∃≤8x.E(y, x),\n",
       " ∃≤12x.E(y, x),\n",
       " ∃≤10x.E(y, x),\n",
       " ∃≤13x.E(y, x),\n",
       " (∃≥10x.E(y, x) ∨ ∃≤12x.E(y, x)),\n",
       " (∃≥10x.E(y, x) ∧ ∃≤12x.E(y, x)),\n",
       " (∃≥10x.E(y, x) ∨ ∃≥11x.E(y, x)),\n",
       " (∃≥10x.E(y, x) ∧ ∃≥11x.E(y, x)),\n",
       " (∃≥10x.E(y, x) ∨ ∃≤13x.E(y, x)),\n",
       " (∃≥10x.E(y, x) ∧ ∃≤13x.E(y, x)),\n",
       " (∃≥10x.E(y, x) ∧ ∃≤7x.E(y, x)),\n",
       " (∃≥10x.E(y, x) ∨ ∃≤7x.E(y, x)),\n",
       " (∃≥10x.E(y, x) ∧ ∃≥7x.E(y, x)),\n",
       " (∃≥10x.E(y, x) ∨ ∃≥7x.E(y, x)),\n",
       " (∃≥10x.E(y, x) ∧ ∃≤8x.E(y, x)),\n",
       " (∃≥10x.E(y, x) ∨ ∃≤8x.E(y, x)),\n",
       " (∃≤12x.E(y, x) ∨ ∃≥11x.E(y, x)),\n",
       " (∃≤12x.E(y, x) ∧ ∃≥11x.E(y, x)),\n",
       " (∃≤12x.E(y, x) ∧ ∃≤13x.E(y, x)),\n",
       " (∃≤12x.E(y, x) ∨ ∃≤13x.E(y, x)),\n",
       " (∃≤12x.E(y, x) ∨ ∃≤7x.E(y, x)),\n",
       " (∃≤12x.E(y, x) ∧ ∃≤7x.E(y, x)),\n",
       " (∃≤12x.E(y, x) ∨ ∃≥7x.E(y, x)),\n",
       " (∃≤12x.E(y, x) ∧ ∃≥7x.E(y, x)),\n",
       " (∃≤12x.E(y, x) ∨ ∃≤8x.E(y, x)),\n",
       " (∃≤12x.E(y, x) ∧ ∃≤8x.E(y, x)),\n",
       " (∃≥11x.E(y, x) ∨ ∃≤13x.E(y, x)),\n",
       " (∃≥11x.E(y, x) ∧ ∃≤13x.E(y, x)),\n",
       " (∃≥11x.E(y, x) ∧ ∃≤7x.E(y, x)),\n",
       " (∃≥11x.E(y, x) ∨ ∃≤7x.E(y, x)),\n",
       " (∃≥11x.E(y, x) ∧ ∃≥7x.E(y, x)),\n",
       " (∃≥11x.E(y, x) ∨ ∃≥7x.E(y, x)),\n",
       " (∃≥11x.E(y, x) ∧ ∃≤8x.E(y, x)),\n",
       " (∃≥11x.E(y, x) ∨ ∃≤8x.E(y, x)),\n",
       " (∃≤13x.E(y, x) ∨ ∃≤7x.E(y, x)),\n",
       " (∃≤13x.E(y, x) ∧ ∃≤7x.E(y, x)),\n",
       " (∃≤13x.E(y, x) ∨ ∃≥7x.E(y, x)),\n",
       " (∃≤13x.E(y, x) ∧ ∃≥7x.E(y, x)),\n",
       " (∃≤13x.E(y, x) ∨ ∃≤8x.E(y, x)),\n",
       " (∃≤13x.E(y, x) ∧ ∃≤8x.E(y, x)),\n",
       " (∃≤7x.E(y, x) ∨ ∃≥7x.E(y, x)),\n",
       " (∃≤7x.E(y, x) ∧ ∃≥7x.E(y, x)),\n",
       " (∃≤7x.E(y, x) ∧ ∃≤8x.E(y, x)),\n",
       " (∃≤7x.E(y, x) ∨ ∃≤8x.E(y, x)),\n",
       " (∃≥7x.E(y, x) ∨ ∃≤8x.E(y, x)),\n",
       " (∃≥7x.E(y, x) ∧ ∃≤8x.E(y, x)),\n",
       " ∃≥4x.E(y, x) ∧ (∃≥13x.E(y, x) ∨ ∃≤7x.E(y, x))),\n",
       " ∃≤3x.(E(y, x) ∧ (∃≥13x.E(y, x) ∨ ∃≤7x.E(y, x))),\n",
       " ∃≥1x.E(y, x) ∧ (∃≤13x.E(y, x) ∧ ∃≥10x.E(y, x))),\n",
       " ∃≤0x.(E(y, x) ∧ (∃≤13x.E(y, x) ∧ ∃≥10x.E(y, x)))]"
      ]
     },
     "execution_count": 8,
     "metadata": {},
     "output_type": "execute_result"
    }
   ],
   "source": [
    "explainer._formulas[0, 1]"
   ]
  },
  {
   "cell_type": "code",
   "execution_count": null,
   "metadata": {},
   "outputs": [
    {
     "data": {
      "text/plain": [
       "1.0"
      ]
     },
     "execution_count": 8,
     "metadata": {},
     "output_type": "execute_result"
    }
   ],
   "source": [
    "explainer.accuracy()"
   ]
  },
  {
   "cell_type": "code",
   "execution_count": null,
   "metadata": {},
   "outputs": [
    {
     "data": {
      "text/plain": [
       "∃=10y.(E(y, x) ∧ E(y, x))"
      ]
     },
     "execution_count": 4,
     "metadata": {},
     "output_type": "execute_result"
    }
   ],
   "source": [
    "GuardedExistsEq(10, Var.y, E(Var.y, Var.x), outgoing=False)"
   ]
  }
 ],
 "metadata": {
  "kernelspec": {
   "display_name": "wlclf",
   "language": "python",
   "name": "python3"
  },
  "language_info": {
   "codemirror_mode": {
    "name": "ipython",
    "version": 3
   },
   "file_extension": ".py",
   "mimetype": "text/x-python",
   "name": "python",
   "nbconvert_exporter": "python",
   "pygments_lexer": "ipython3",
   "version": "3.12.0"
  }
 },
 "nbformat": 4,
 "nbformat_minor": 2
}
